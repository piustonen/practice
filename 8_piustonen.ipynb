{
  "nbformat": 4,
  "nbformat_minor": 0,
  "metadata": {
    "colab": {
      "name": "Practice_7_KM-01_.ipynb",
      "provenance": [],
      "collapsed_sections": []
    },
    "kernelspec": {
      "name": "Python 3.6.8 64-bit",
      "display_name": "Python 3.6.8 64-bit",
      "metadata": {
        "interpreter": {
          "hash": "2da3a1fb744ceb9826f8507be472275d914440904705c6470325850c18f7eb2c"
        }
      }
    }
  },
  "cells": [
    {
      "cell_type": "markdown",
      "metadata": {
        "id": "FMqboNwO4rVs"
      },
      "source": [
        "# **Курс \"Програмування на мові Python\"**\n",
        "\n",
        "##### Викладачі:\n",
        "##### Борисенко Павло Борисович\n",
        "##### Щьоголєв Максим Олегович\n"
      ]
    },
    {
      "cell_type": "markdown",
      "metadata": {
        "id": "A2T6MigL5Z06"
      },
      "source": [
        "## **Практичне зайняття №8**\n",
        "\n",
        "### Тема: \"Робота з функціями. Локальні та глобальні змінні\""
      ]
    },
    {
      "cell_type": "markdown",
      "metadata": {
        "id": "cfCdgK2zXm7e"
      },
      "source": [
        "### **Завдання 1 (3 бали)**\n",
        "\n",
        "**Підрахувати визначник матриці, використовуючи перестановки та символ Леві-Чивіти.**\n",
        "\n",
        "Функція random_matrix() призначена для створення квадратної матриці випадкових чисел. Її змінювати непотрібно.\n",
        "\n",
        "Приклад використання методу permutations() для створення списку перестановок також подається у комірці з кодом.\n",
        "\n",
        "1) Створити 3 функції: функцію створення списку перестановок, функцію підрахунку добутків та функцію підрахунку загальної суми.\n",
        "\n",
        "2) Кожна функція має супроводжуватись рядком документації, що буде коротко описувати її призначення.\n",
        "\n",
        "3) Розмірність квадратної матриці має вводитись користувачем з клавіатури. Підрахунки виконувати лише в тому разі, якщо користувач введе ціле додатне число.\n",
        "\n",
        "4) Загальний результат повинен підраховуватись за допомогою композиції функцій.\n",
        "\n",
        "За бажання можна перевірити правильність роботи програми за допомогою функції np.linalg.det(a)."
      ]
    },
    {
      "cell_type": "code",
      "metadata": {
        "id": "ifNX2M7LXm7f"
      },
      "source": [
        "import numpy as np\n",
        "import itertools\n",
        "\n",
        "\n",
        "def check(h):\n",
        "    try:\n",
        "        int(h)\n",
        "        return True\n",
        "    except ValueError:\n",
        "        return False\n",
        "\n",
        "\n",
        "while True:\n",
        "    x = input(\"Input size x of matrix x*x: \")\n",
        "    try:\n",
        "        x = int(x)\n",
        "    except ValueError:\n",
        "        print(\"Please, enter a natural number.\")\n",
        "        continue\n",
        "    if x < 1:\n",
        "        print(\"Please, enter a natural number.\")\n",
        "    else:\n",
        "        break\n",
        "\n",
        "def matrix(x):\n",
        "    \"\"\"This function generates matrix and creates inversions \"\"\"\n",
        "    list = []\n",
        "    for i in range(x):\n",
        "        list.append([])\n",
        "        for j in range(x):\n",
        "            while True:\n",
        "                try:\n",
        "                    list[i].append(float(input(\"Input a \" + str(i + 1) + str(j + 1))))\n",
        "                    break\n",
        "                except ValueError:\n",
        "                    print(\"You have inputted an incorrect valur\")\n",
        "    matrix = np.array(list)\n",
        "    print(\"Matrix: \\n\", matrix)\n",
        "    return matrix\n",
        "\n",
        "\n",
        "matrix = matrix(x)\n",
        "\n",
        "\n",
        "l = [str(i) for i in range(1, x+1)]\n",
        "maatrix = list(itertools.permutations(\"\".join(l), x))\n",
        "\n",
        "\n",
        "def f_1():\n",
        "    \"\"\"This function works with inversions and performs a multiplication operation\"\"\"\n",
        "    global maatrix\n",
        "    global x\n",
        "    global matrix\n",
        "    final_list = []\n",
        "    for e in maatrix:\n",
        "        v = 0\n",
        "        index = 1\n",
        "        for i in range(len(e)):\n",
        "            for s in range(i):\n",
        "                if e[s] > e[i]:\n",
        "                    v += 1\n",
        "        for i in range(len(e)):\n",
        "            index = index * int(matrix[i][int(e[i])-1])\n",
        "        if v % 2 == 0 or v == 0:\n",
        "            final_list.append(index)\n",
        "        else:\n",
        "            final_list.append((-1)*(index))\n",
        "    return final_list\n",
        "\n",
        "\n",
        "def count():\n",
        "    \"\"\"This function collects results together\"\"\"\n",
        "    matrix_to_print = f_1()\n",
        "    finish = 0\n",
        "    for i in matrix_to_print:\n",
        "        finish += int(i)\n",
        "    return finish\n",
        "\n",
        "\n",
        "print(\"Det(countings): \", count())\n",
        "k = np.linalg.det(matrix)\n",
        "print(\"Det(linag.det): \", round(k, 2))\n"
      ],
      "execution_count": 1,
      "outputs": [
        {
          "output_type": "stream",
          "name": "stdout",
          "text": [
            "Matrix: \n [[2. 6. 4.]\n [7. 8. 6.]\n [5. 4. 3.]]\nDet(countings):  6\nDet(linag.det):  6.0\n"
          ]
        }
      ]
    },
    {
      "cell_type": "code",
      "execution_count": null,
      "metadata": {},
      "outputs": [],
      "source": []
    }
  ]
}