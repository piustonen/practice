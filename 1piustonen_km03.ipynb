{
  "nbformat": 4,
  "nbformat_minor": 0,
  "metadata": {
    "colab": {
      "name": "Pranctice_3_KM-01_<name>.ipynb",
      "provenance": [],
      "collapsed_sections": []
    },
    "kernelspec": {
      "name": "Python 3.6.8 64-bit",
      "display_name": "Python 3.6.8 64-bit",
      "metadata": {
        "interpreter": {
          "hash": "2da3a1fb744ceb9826f8507be472275d914440904705c6470325850c18f7eb2c"
        }
      }
    }
  },
  "cells": [
    {
      "cell_type": "markdown",
      "metadata": {
        "id": "1bRxWHr5e8kt"
      },
      "source": [
        "# **Курс \"Програмування на мові Python\"**\n",
        "\n",
        "##### Викладачі:\n",
        "##### Борисенко Павло Борисович\n",
        "##### Щьоголєв Максим Олегович"
      ]
    },
    {
      "cell_type": "markdown",
      "metadata": {
        "id": "buZUwUgFe-kx"
      },
      "source": [
        "## **Практичне зайняття №3**\n",
        "### Тема: \"Перші програми на Python. Введення та виведення даних. Інструкція if\""
      ]
    },
    {
      "cell_type": "markdown",
      "metadata": {
        "id": "PUkxEn8EfAUe"
      },
      "source": [
        "### **Завдання 1 (1,5 бали)**\n",
        "\n"
      ]
    },
    {
      "cell_type": "markdown",
      "metadata": {
        "id": "M7jjwxAvfKa2"
      },
      "source": [
        "**Написати програму введення та виведення даних про одержувача листа (посилки) за стандартами Укрпошти.**\n",
        "\n",
        "1. Усі запити на введення даних повинні супроводжуватись відповідними підказками-поясненнями (бажано англійською мовою).\n",
        "\n",
        "2. Дані мають виводитись так, як показано нижче (з урахуванням кількості рядків та послідовності даних у кожному з них).\n",
        "\n",
        "3. Дані, виділені жирним шрифтом, повинні вводитись із клавіатури. Всього має бути 9 окремих команд введення даних\n",
        "\n",
        "4. Назви змінних повинні бути інформативними та оформленими відповідно до правил іменування змінних\n",
        "\n",
        "5. Додати 2 коментарі, що вказують на блоки введення та виведення даних.\n",
        "\n",
        "***Формат виведення даних:***\n",
        "\n",
        "(1) **Ім'я** (2) **Прізвище**\n",
        "\n",
        "(3) **Номер телефону**\n",
        "\n",
        "Str. (4) **Назва вулиці** (5) **Номер будинку**, ap. (6) **Номер квартири**, (7) **Місто**\n",
        "\n",
        "(8) **Індекс**\n",
        "\n",
        "(9) **Країна**"
      ]
    },
    {
      "cell_type": "code",
      "metadata": {
        "id": "hEJG5C3_fJk9"
      },
      "source": [
        "#inputing our data\n",
        "name = input(\"Input your name: \")\n",
        "surname = input(\"Input your surname: \")\n",
        "num = input(\"Input your number: \")\n",
        "street = input(\"Input your street: \")\n",
        "number_street = input(\"Input the number of your house: \")\n",
        "number_street_2 = input(\"Input the nember of your house 2: \")\n",
        "town = input(\"Input your town\")\n",
        "index = input(\"Input your index\")\n",
        "country = input(\"Input your contry\")\n",
        "#printing our data\n",
        "print(\"Name and surname: \", name,  surname)\n",
        "print(\"Number: \", num)\n",
        "print(\"Your street: \", street,\",\" ,\"number of the house 1 and 2: \", number_street ,\"/\", number_street_2 ,\",\" , \"town: \", town )\n",
        "print(\"Your index: \", index)\n",
        "print(\"Country: \", country)\n",
        "\n",
        "\n",
        "\n",
        "\n"
      ],
      "execution_count": 68,
      "outputs": [
        {
          "output_type": "stream",
          "name": "stdout",
          "text": [
            "Name and surname:   \nNumber:  \nYour street:   , number of the house 1 and 2:   /  , town:  \nYour index:  \nCountry:  \n"
          ]
        }
      ]
    },
    {
      "cell_type": "markdown",
      "metadata": {
        "id": "WmnpKrmPf689"
      },
      "source": [
        "### **Завдання 2 (1,5 бали)**"
      ]
    },
    {
      "cell_type": "markdown",
      "metadata": {
        "id": "4n4p_pz7gFKM"
      },
      "source": [
        "Відповідно до чинної системи оцінювання в КПІ, рейтингові бали R студентів переводяться в оцінки за такою таблицею:\n",
        "\n",
        "R | Grade\n",
        "--- | ---\n",
        "95 - 100 | Excellent\n",
        "85 - 94 | Very good\n",
        "75 - 84 | Good\n",
        "65 - 74 | Satisfactory\n",
        "60 - 64 | Marginal\n",
        "0 - 59 | Unsatisfactory\n",
        "\n",
        "Напишіть програму, яка буде зчитувати рейтинговий бал R, введений користувачем, та виводити відповідну оцінку як частину змістовного повідомлення. Наприклад, якщо користувач вводить рейтинговий бал R 78, ваша програма повинна показати оцінку Good. Програма також повинна виводити повідомлення про помилку, якщо користувач введе від'ємне число або число, більше за 100."
      ]
    },
    {
      "cell_type": "code",
      "execution_count": 64,
      "metadata": {},
      "outputs": [
        {
          "output_type": "stream",
          "name": "stdout",
          "text": [
            "Excellent\n"
          ]
        }
      ],
      "source": [
        "mark = int(input(\"Input your mark: \"))\n",
        "if ( 0 <= mark <= 59):\n",
        "    print(\"Unsatisfactory\")\n",
        "elif (60 <= mark <= 64):\n",
        "    print(\"Marginal\")\n",
        "elif ( 63 <= mark <= 74):\n",
        "    print(\"Satisfactory\")\n",
        "elif (75 <= mark <= 84):\n",
        "    print(\"Good\")\n",
        "elif (85 <= mark <= 94):\n",
        "    print(\"Very good\")\n",
        "elif (95 <= mark <=  100):\n",
        "    print(\"Excellent\")\n",
        "else:\n",
        "    print(\"Your mark isn't real\")\n",
        "\n",
        "\n"
      ]
    },
    {
      "cell_type": "markdown",
      "metadata": {
        "id": "X8fC_GM_nMRi"
      },
      "source": [
        "### **Завдання 3 (бонусне, 1 бал)**"
      ]
    },
    {
      "cell_type": "markdown",
      "metadata": {
        "id": "b593txPwotgN"
      },
      "source": [
        "Мобільний оператор розробив тарифний план, згідно з яким, сплачуючи 100 грн. на місяць, абонент може спілкуватись 50 хвилин з абонентами інших мобільних операторів впродовж цього місяця. У разі перевищення ліміту абоненту надаються ще 50 хвилин до кінця місяця за 50 грн. Якщо ж і цей ліміт було перевищено, абонент сплачуватиме 2 грн. за кожну додаткову хвилину розмов до кінця поточного місяця.\n",
        "\n",
        "Напишіть програму, що підраховує суму коштів, яку доведеться сплатити абоненту за місяць, на основі тривалості його розмов з абонентами інших мобільних операторів (у хвилинах), введеної користувачем з клавіатури. Ваша програма також повинна виводити повідомлення про помилку, якщо користувач введе від'ємне число."
      ]
    },
    {
      "cell_type": "code",
      "metadata": {
        "id": "PA_E_H0Zosu0"
      },
      "source": [
        "time = int(input(\"How much time are you going to spend speaking with others?: \"))\n",
        "extra_paying = ((time - 100) * 2) + 150\n",
        "if (time < 50):\n",
        "    print(\"You will have to pay 100 grn\")\n",
        "elif (time < 100):\n",
        "    print(\"You will have to pay 150 grn \")\n",
        "elif (time > 100):\n",
        "    print(\"You will have to pay\", extra_paying , \"grn\")\n",
        "else:\n",
        "    print(\"Your time can't be less then 0\")"
      ],
      "execution_count": 65,
      "outputs": [
        {
          "output_type": "stream",
          "name": "stdout",
          "text": [
            "You will have to pay 250 grn\n"
          ]
        }
      ]
    },
    {
      "cell_type": "code",
      "execution_count": null,
      "metadata": {},
      "outputs": [],
      "source": []
    }
  ]
}