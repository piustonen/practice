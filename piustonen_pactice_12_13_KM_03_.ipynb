{
  "nbformat": 4,
  "nbformat_minor": 0,
  "metadata": {
    "colab": {
      "name": "Practice_12_13_KM_01_.ipynb",
      "provenance": [],
      "collapsed_sections": []
    },
    "kernelspec": {
      "name": "python3",
      "display_name": "Python 3.6.8 64-bit",
      "metadata": {
        "interpreter": {
          "hash": "2da3a1fb744ceb9826f8507be472275d914440904705c6470325850c18f7eb2c"
        }
      }
    }
  },
  "cells": [
    {
      "cell_type": "markdown",
      "metadata": {
        "id": "FMqboNwO4rVs"
      },
      "source": [
        "# **Курс \"Програмування на мові Python\"**\n",
        "\n",
        "##### Викладачі:\n",
        "##### Борисенко Павло Борисович\n",
        "##### Щьоголєв Максим Олегович\n"
      ]
    },
    {
      "cell_type": "markdown",
      "metadata": {
        "id": "A2T6MigL5Z06"
      },
      "source": [
        "## **Практичні зайняття №12-13**\n",
        "\n",
        "### Тема: \"Рекурсивні функції\""
      ]
    },
    {
      "cell_type": "markdown",
      "metadata": {
        "id": "cfCdgK2zXm7e"
      },
      "source": [
        "### **Завдання 1 (1 бал)**\n",
        "\n",
        "Реалізуйте функцію `cons(head, tail)`, що конструює новий список із довільного елемента `head` й іншого списку `tail`.\n",
        "\n",
        "Сама по собі функція `cons` не є рекурсивною, однак вона породжує рекурсивну структуру даних, представлену нижче. "
      ]
    },
    {
      "cell_type": "code",
      "metadata": {
        "id": "Bku8v9CjE_Qc"
      },
      "source": [
        "def cons(head, tail=[]):\n",
        "    return [head, *tail]\n",
        "\n",
        "\n",
        "l = cons(3, \n",
        "        cons(2, \n",
        "            cons(1, [])))\n",
        "print(f'Result: {l}')\n",
        "\n",
        "assert l == [3, 2, 1], 'Failed test 1'\n",
        "assert cons(1) == [1], 'Failed test 2'\n",
        "print('All tests good!')"
      ],
      "execution_count": 9,
      "outputs": [
        {
          "output_type": "stream",
          "name": "stdout",
          "text": [
            "Result: [3, 2, 1]\nAll tests good!\n"
          ]
        }
      ]
    },
    {
      "cell_type": "markdown",
      "metadata": {
        "id": "474jvMyn38ju"
      },
      "source": [
        "Таким чином, легко уявити, що деякі традиційні структури даних цілком природньо обходяться за допомогою рекурсії.\n",
        "\n",
        "Напишіть тепер рекурсивну функцію `sum(lst)`, яка сумуватиме список `lst`."
      ]
    },
    {
      "cell_type": "code",
      "metadata": {
        "id": "9x4n4ct53_Y6"
      },
      "source": [
        "def sum(lst, a=0, n=0):\n",
        "    if a != len(lst):\n",
        "        return sum(lst, a + 1, n + lst[a])\n",
        "    else:\n",
        "        return n\n",
        "\n",
        "print(sum(l))\n",
        "assert sum(l) == 6, 'Failed on sum'\n",
        "print('All tests good!')"
      ],
      "execution_count": 10,
      "outputs": [
        {
          "output_type": "stream",
          "name": "stdout",
          "text": [
            "6\nAll tests good!\n"
          ]
        }
      ]
    },
    {
      "cell_type": "markdown",
      "metadata": {
        "id": "oqXwIz3iuPRe"
      },
      "source": [
        "### **Завдання 2 (1 бал)**\n",
        "\n",
        "Реалізуйте рекурсивну функцію `rrange(begin, end, step)`, що повертає список елементів починаючи з `begin` і закінчуючи `end` невключно, із кроком `step`. Зверніть увагу, що крок може бути від'ємним. Якщо `begin` більше `end` при додатньому кроці (чи менше при від'ємному), або якщо крок нульовий, поверніть порожній список.\n",
        "\n",
        "Зверніть увагу на тести, приведені нижче."
      ]
    },
    {
      "cell_type": "code",
      "metadata": {
        "id": "yiRr2CqMWxLA"
      },
      "source": [
        "def rrange(begin, end, step=1):\n",
        "    if begin >= end and step > 0:\n",
        "        return []\n",
        "    elif begin <= end and step < 0:\n",
        "        return []\n",
        "    elif step == 0:\n",
        "        return []\n",
        "    else:\n",
        "        return [begin] + rrange(begin + step, end, step)\n",
        "\n",
        "x = rrange(1, 10)\n",
        "y = rrange(10, 1, -1)\n",
        "z = rrange(10, 1, 1)\n",
        "\n",
        "assert x == list(range(1, 10)), 'Failed test for simple range'\n",
        "assert y == list(range(10, 1, -1)), 'Failed test for reverse range'\n",
        "assert z == list(range(10, 1, 1)), 'Failed test for empty range'\n",
        "print('All tests good!')"
      ],
      "execution_count": 8,
      "outputs": [
        {
          "output_type": "stream",
          "name": "stdout",
          "text": [
            "All tests good!\n"
          ]
        }
      ]
    },
    {
      "cell_type": "markdown",
      "metadata": {
        "id": "8bFJLl9Y4PYz"
      },
      "source": [
        "### **Завдання 3 (2 бали)**\n",
        "\n",
        "Нехай задано структуру даних, що представляє файли на диску, наступного вигляду:\n",
        "- файли представлені у вигляді рядків зі своїм іменем;\n",
        "- папки представлені у вигляді пари `(name, subnodes)`, де `name` — це ім'я папки, а `subnodes` — список з файлів і/або папок, що містяться у ній.\n",
        "\n",
        "Приклад такої структури наведено нижче у змінній `dirs`.\n",
        "\n",
        "Реалізуйте рекурсивну функцію `search(dirs, filename)` для пошуку усіх файлів із іменем `filename` у структурі `dirs`. Ця функція має повертати список, що містить повні шляхи до файлу у заданій структурі. Наприклад, `search(dirs, 'file2')` для наведеної нижче структури має повертати список `['/folder1/folder2/file2']`.\n",
        "\n",
        "_Зауваження 1_: Ви можете, за необхідності, додати до сигнатури функції додаткові параметри, за умови, що вони матимуть значення за замовчуванням. Однак, я стверджую, що таку функцію завжди можна реалізувати використовуючи лише задану кількість параметрів, незалежно від того, чи будете ви використовувати рекурсію з акумулятором чи без.\n",
        "\n",
        "_Зауваження 2_: Згадайте, що рекурсія буває не тільки безпосередньою, але й опосередкованою, коли послідовність функцій викликає одна одну: `f() -> g() -> ... -> f()`\n",
        "\n",
        "_Зауваження 3_: Пам'ятайте, що Ви завжди можете використовувати функції `map` та `reduce`. Крім того, ви можете захотіти використати інші функції з модулів `functools` та `itertools`, наприклад `itertools.chain()`. Завдання, однак, можна виконати і без них (хоч це і не дуже зручно).\n",
        "\n",
        "_Зауваження 4_: На мій смак, версія з акумулятором є більш елегантною, але дещо складнішою в реалізації. Спробуйте реалізувати обидві версії.\n",
        "\n",
        "![](https://media.giphy.com/media/enCWEo0vG25Ow/giphy.gif) "
      ]
    },
    {
      "cell_type": "code",
      "metadata": {
        "id": "p4JxkFju4W0e"
      },
      "source": [
        "dirs = [\n",
        "    ( 'folder1',\n",
        "        [\n",
        "            'file1',\n",
        "            ( 'folder2', \n",
        "                [\n",
        "                    'file2',\n",
        "                    'file3'\n",
        "                ] \n",
        "            ),\n",
        "            ( 'folder3', \n",
        "                [\n",
        "                    'file3', \n",
        "                    'file4',\n",
        "                    ('folder4', ['file3'])\n",
        "                ] \n",
        "            ),\n",
        "            'file5'\n",
        "        ]\n",
        "    )\n",
        "]\n",
        "\n",
        "\n",
        "def lg(func):\n",
        "    def search(dirs, filename, ways=[], ways_now='/'):\n",
        "        result=func(dirs, filename, ways=[], ways_now='/')\n",
        "        return result\n",
        "    return search   #підміна\n",
        "\n",
        "\n",
        "def filter(List, files=[], tuples=[]):\n",
        "    for i in List:\n",
        "        if isinstance(i, tuple):\n",
        "            tuples.append(i)\n",
        "        else:\n",
        "            files.append(i)\n",
        "    result_1=files[:]\n",
        "    result_2=tuples[:]\n",
        "    files.clear()\n",
        "    tuples.clear()\n",
        "    return result_1, result_2 #передаємо все, що є в папці\n",
        "\n",
        "\n",
        "def read_tuple(Tuple):\n",
        "    lst=list(Tuple)\n",
        "    return lst[0], lst[1:]  # повертає назву папки та вміст\n",
        "\n",
        "\n",
        "def s(dirs, filename, ways=[], ways_now='/'):\n",
        "    files, tuples = filter(dirs)\n",
        "\n",
        "    for i in files:\n",
        "        if i==filename:\n",
        "            if ways_now=='/':\n",
        "                ways.append(filename)\n",
        "            else:\n",
        "                ways.append(ways_now+'/'+filename)\n",
        "                \n",
        "    for i in tuples:\n",
        "        head,lst=read_tuple(i)\n",
        "        if ways_now=='/':\n",
        "            ways_now_real=ways_now+head\n",
        "        else:    \n",
        "            ways_now_real=ways_now+'//'+head\n",
        "        s(lst[0], filename, ways, ways_now_real)\n",
        "    \n",
        "    return ways\n",
        "\n",
        "\n",
        "search=lg(s)\n",
        "\n",
        "\n",
        "print(search(dirs, 'file1'))\n",
        "print(search(dirs, 'file2'))\n",
        "print(search(dirs, 'file3'))\n",
        "print(search(dirs, 'file4'))\n",
        "print(search(dirs, 'file5'))\n",
        "print(search(dirs, 'file6'))\n",
        "print(search(dirs, 'folder1'))\n",
        "\n",
        "assert search(dirs, 'file1') == ['/folder1/file1'], 'Failed test for file1'\n",
        "assert search(dirs, 'file2') == ['/folder1//folder2/file2'], 'Failed test for file2'\n",
        "assert search(dirs, 'file3') == ['/folder1//folder2/file3', '/folder1//folder3/file3', '/folder1//folder3//folder4/file3'], 'Failed test for file3'\n",
        "assert search(dirs, 'file4') == ['/folder1//folder3/file4'], 'Failed test for file4'\n",
        "assert search(dirs, 'file5') == ['/folder1/file5'], 'Failed test for file5'\n",
        "assert search(dirs, 'file6') == [], 'Failed test for file6'\n",
        "assert search(dirs, 'folder1') == [], 'Failed test for folder1'\n",
        "print('All tests good!')"
      ],
      "execution_count": 7,
      "outputs": [
        {
          "output_type": "stream",
          "name": "stdout",
          "text": [
            "['/folder1/file1']\n['/folder1//folder2/file2']\n['/folder1//folder2/file3', '/folder1//folder3/file3', '/folder1//folder3//folder4/file3']\n['/folder1//folder3/file4']\n['/folder1/file5']\n[]\n[]\nAll tests good!\n"
          ]
        }
      ]
    },
    {
      "cell_type": "markdown",
      "metadata": {
        "id": "DQ0Q0MRA4an8"
      },
      "source": [
        "### **Завдання 4 (2 бали)**\n",
        "\n",
        "Реалізуйте [функцію Акермана](https://uk.wikipedia.org/wiki/%D0%A4%D1%83%D0%BD%D0%BA%D1%86%D1%96%D1%8F_%D0%90%D0%BA%D0%B5%D1%80%D0%BC%D0%B0%D0%BD%D0%B0), що має такий вигляд:\n",
        "$$ \n",
        "A(m,n) = \\begin{cases} \n",
        "n + 1, & \\quad m = 0; \\\\\n",
        "A(m-1, 1), & \\quad m>0, n=0; \\\\\n",
        "A(m-1, A(m, n-1)), & \\quad m > 0, n > 0.\n",
        "\\end{cases}\n",
        "$$\n",
        "\n",
        "_Зауваження 1_: Функція Акермана, незважаючи на оманливу простоту свого визначення, має велику обчислювальну складність. На власний страх і ризик, можете спробувати обчислити значення $A(4, 3)$. Не пробуйте робити це у цьому середовищі (і на повільних домашніх компьютерах)."
      ]
    },
    {
      "cell_type": "code",
      "metadata": {
        "id": "9flPihHi4i8g"
      },
      "source": [
        "def akkerman(m, n):\n",
        "    if m == 0:\n",
        "        return n + 1\n",
        "    elif n == 0:\n",
        "        return akkerman(m - 1, 1)\n",
        "    else:\n",
        "        return akkerman(m - 1, akkerman(m, n - 1))\n",
        "test_pairs = list((m, n) for m in range(0,4) for n in range(0,5))\n",
        "results = [\n",
        "    1,  2,  3,  4, 5, \n",
        "    2,  3,  4,  5, 6, \n",
        "    3,  5,  7,  9, 11,\n",
        "    5, 13, 29, 61, 125\n",
        "]\n",
        "for (m, n), res in zip(test_pairs, results):\n",
        "    assert akkerman(m, n) == res, f'Failed test for (m, n) pair ({m}, {n}): akkerman({m}, {n}) = {res}'\n",
        "print('All tests good!')\n",
        "print(akkerman(4, 3)) #на власний страх і ризик..."
      ],
      "execution_count": 5,
      "outputs": [
        {
          "output_type": "stream",
          "name": "stdout",
          "text": [
            "All tests good!\n"
          ]
        },
        {
          "output_type": "error",
          "ename": "RecursionError",
          "evalue": "maximum recursion depth exceeded in comparison",
          "traceback": [
            "\u001b[1;31m---------------------------------------------------------------------------\u001b[0m",
            "\u001b[1;31mRecursionError\u001b[0m                            Traceback (most recent call last)",
            "\u001b[1;32m<ipython-input-5-02893a74e9d1>\u001b[0m in \u001b[0;36m<module>\u001b[1;34m\u001b[0m\n\u001b[0;32m     16\u001b[0m     \u001b[1;32massert\u001b[0m \u001b[0makkerman\u001b[0m\u001b[1;33m(\u001b[0m\u001b[0mm\u001b[0m\u001b[1;33m,\u001b[0m \u001b[0mn\u001b[0m\u001b[1;33m)\u001b[0m \u001b[1;33m==\u001b[0m \u001b[0mres\u001b[0m\u001b[1;33m,\u001b[0m \u001b[1;34mf'Failed test for (m, n) pair ({m}, {n}): akkerman({m}, {n}) = {res}'\u001b[0m\u001b[1;33m\u001b[0m\u001b[1;33m\u001b[0m\u001b[0m\n\u001b[0;32m     17\u001b[0m \u001b[0mprint\u001b[0m\u001b[1;33m(\u001b[0m\u001b[1;34m'All tests good!'\u001b[0m\u001b[1;33m)\u001b[0m\u001b[1;33m\u001b[0m\u001b[1;33m\u001b[0m\u001b[0m\n\u001b[1;32m---> 18\u001b[1;33m \u001b[0mprint\u001b[0m\u001b[1;33m(\u001b[0m\u001b[0makkerman\u001b[0m\u001b[1;33m(\u001b[0m\u001b[1;36m4\u001b[0m\u001b[1;33m,\u001b[0m \u001b[1;36m3\u001b[0m\u001b[1;33m)\u001b[0m\u001b[1;33m)\u001b[0m \u001b[1;31m#на власний страх і ризик...\u001b[0m\u001b[1;33m\u001b[0m\u001b[1;33m\u001b[0m\u001b[0m\n\u001b[0m",
            "\u001b[1;32m<ipython-input-5-02893a74e9d1>\u001b[0m in \u001b[0;36makkerman\u001b[1;34m(m, n)\u001b[0m\n\u001b[0;32m      5\u001b[0m         \u001b[1;32mreturn\u001b[0m \u001b[0makkerman\u001b[0m\u001b[1;33m(\u001b[0m\u001b[0mm\u001b[0m \u001b[1;33m-\u001b[0m \u001b[1;36m1\u001b[0m\u001b[1;33m,\u001b[0m \u001b[1;36m1\u001b[0m\u001b[1;33m)\u001b[0m\u001b[1;33m\u001b[0m\u001b[1;33m\u001b[0m\u001b[0m\n\u001b[0;32m      6\u001b[0m     \u001b[1;32melse\u001b[0m\u001b[1;33m:\u001b[0m\u001b[1;33m\u001b[0m\u001b[1;33m\u001b[0m\u001b[0m\n\u001b[1;32m----> 7\u001b[1;33m         \u001b[1;32mreturn\u001b[0m \u001b[0makkerman\u001b[0m\u001b[1;33m(\u001b[0m\u001b[0mm\u001b[0m \u001b[1;33m-\u001b[0m \u001b[1;36m1\u001b[0m\u001b[1;33m,\u001b[0m \u001b[0makkerman\u001b[0m\u001b[1;33m(\u001b[0m\u001b[0mm\u001b[0m\u001b[1;33m,\u001b[0m \u001b[0mn\u001b[0m \u001b[1;33m-\u001b[0m \u001b[1;36m1\u001b[0m\u001b[1;33m)\u001b[0m\u001b[1;33m)\u001b[0m\u001b[1;33m\u001b[0m\u001b[1;33m\u001b[0m\u001b[0m\n\u001b[0m\u001b[0;32m      8\u001b[0m \u001b[0mtest_pairs\u001b[0m \u001b[1;33m=\u001b[0m \u001b[0mlist\u001b[0m\u001b[1;33m(\u001b[0m\u001b[1;33m(\u001b[0m\u001b[0mm\u001b[0m\u001b[1;33m,\u001b[0m \u001b[0mn\u001b[0m\u001b[1;33m)\u001b[0m \u001b[1;32mfor\u001b[0m \u001b[0mm\u001b[0m \u001b[1;32min\u001b[0m \u001b[0mrange\u001b[0m\u001b[1;33m(\u001b[0m\u001b[1;36m0\u001b[0m\u001b[1;33m,\u001b[0m\u001b[1;36m4\u001b[0m\u001b[1;33m)\u001b[0m \u001b[1;32mfor\u001b[0m \u001b[0mn\u001b[0m \u001b[1;32min\u001b[0m \u001b[0mrange\u001b[0m\u001b[1;33m(\u001b[0m\u001b[1;36m0\u001b[0m\u001b[1;33m,\u001b[0m\u001b[1;36m5\u001b[0m\u001b[1;33m)\u001b[0m\u001b[1;33m)\u001b[0m\u001b[1;33m\u001b[0m\u001b[1;33m\u001b[0m\u001b[0m\n\u001b[0;32m      9\u001b[0m results = [\n",
            "... last 1 frames repeated, from the frame below ...\n",
            "\u001b[1;32m<ipython-input-5-02893a74e9d1>\u001b[0m in \u001b[0;36makkerman\u001b[1;34m(m, n)\u001b[0m\n\u001b[0;32m      5\u001b[0m         \u001b[1;32mreturn\u001b[0m \u001b[0makkerman\u001b[0m\u001b[1;33m(\u001b[0m\u001b[0mm\u001b[0m \u001b[1;33m-\u001b[0m \u001b[1;36m1\u001b[0m\u001b[1;33m,\u001b[0m \u001b[1;36m1\u001b[0m\u001b[1;33m)\u001b[0m\u001b[1;33m\u001b[0m\u001b[1;33m\u001b[0m\u001b[0m\n\u001b[0;32m      6\u001b[0m     \u001b[1;32melse\u001b[0m\u001b[1;33m:\u001b[0m\u001b[1;33m\u001b[0m\u001b[1;33m\u001b[0m\u001b[0m\n\u001b[1;32m----> 7\u001b[1;33m         \u001b[1;32mreturn\u001b[0m \u001b[0makkerman\u001b[0m\u001b[1;33m(\u001b[0m\u001b[0mm\u001b[0m \u001b[1;33m-\u001b[0m \u001b[1;36m1\u001b[0m\u001b[1;33m,\u001b[0m \u001b[0makkerman\u001b[0m\u001b[1;33m(\u001b[0m\u001b[0mm\u001b[0m\u001b[1;33m,\u001b[0m \u001b[0mn\u001b[0m \u001b[1;33m-\u001b[0m \u001b[1;36m1\u001b[0m\u001b[1;33m)\u001b[0m\u001b[1;33m)\u001b[0m\u001b[1;33m\u001b[0m\u001b[1;33m\u001b[0m\u001b[0m\n\u001b[0m\u001b[0;32m      8\u001b[0m \u001b[0mtest_pairs\u001b[0m \u001b[1;33m=\u001b[0m \u001b[0mlist\u001b[0m\u001b[1;33m(\u001b[0m\u001b[1;33m(\u001b[0m\u001b[0mm\u001b[0m\u001b[1;33m,\u001b[0m \u001b[0mn\u001b[0m\u001b[1;33m)\u001b[0m \u001b[1;32mfor\u001b[0m \u001b[0mm\u001b[0m \u001b[1;32min\u001b[0m \u001b[0mrange\u001b[0m\u001b[1;33m(\u001b[0m\u001b[1;36m0\u001b[0m\u001b[1;33m,\u001b[0m\u001b[1;36m4\u001b[0m\u001b[1;33m)\u001b[0m \u001b[1;32mfor\u001b[0m \u001b[0mn\u001b[0m \u001b[1;32min\u001b[0m \u001b[0mrange\u001b[0m\u001b[1;33m(\u001b[0m\u001b[1;36m0\u001b[0m\u001b[1;33m,\u001b[0m\u001b[1;36m5\u001b[0m\u001b[1;33m)\u001b[0m\u001b[1;33m)\u001b[0m\u001b[1;33m\u001b[0m\u001b[1;33m\u001b[0m\u001b[0m\n\u001b[0;32m      9\u001b[0m results = [\n",
            "\u001b[1;31mRecursionError\u001b[0m: maximum recursion depth exceeded in comparison"
          ]
        }
      ]
    },
    {
      "cell_type": "code",
      "execution_count": null,
      "metadata": {},
      "outputs": [],
      "source": []
    }
  ]
}