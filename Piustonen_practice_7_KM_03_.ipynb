{
  "nbformat": 4,
  "nbformat_minor": 0,
  "metadata": {
    "colab": {
      "name": "Practice_7_KM-01_.ipynb",
      "provenance": [],
      "collapsed_sections": []
    },
    "kernelspec": {
      "name": "Python 3.6.8 64-bit",
      "display_name": "Python 3.6.8 64-bit",
      "metadata": {
        "interpreter": {
          "hash": "2da3a1fb744ceb9826f8507be472275d914440904705c6470325850c18f7eb2c"
        }
      }
    }
  },
  "cells": [
    {
      "cell_type": "markdown",
      "metadata": {
        "id": "FMqboNwO4rVs"
      },
      "source": [
        "# **Курс \"Програмування на мові Python\"**\n",
        "\n",
        "##### Викладачі:\n",
        "##### Борисенко Павло Борисович\n",
        "##### Щьоголєв Максим Олегович\n"
      ]
    },
    {
      "cell_type": "markdown",
      "metadata": {
        "id": "A2T6MigL5Z06"
      },
      "source": [
        "## **Практичне зайняття №7**\n",
        "\n",
        "### Тема: \"Перевірка даних. Робота з виключеннями. Регулярні вирази\""
      ]
    },
    {
      "cell_type": "markdown",
      "metadata": {
        "id": "cfCdgK2zXm7e"
      },
      "source": [
        "### **Завдання 1 (1,5 бали)**\n",
        "\n",
        "Переробити завдання №1 практичної роботи №6 з використанням регулярних виразів.\n",
        "\n",
        "1. Створити шаблон регулярного виразу.\n",
        "\n",
        "2. За допомогою функції compile() створити об'єкт регулярного виразу.\n",
        "\n",
        "3. Всі інші вимоги залишаються такими ж, як і в оригінальному завданні."
      ]
    },
    {
      "cell_type": "code",
      "metadata": {
        "id": "ifNX2M7LXm7f"
      },
      "source": [
        "import re\n",
        "\n",
        "p = \"[BodyPart:0-(0.55, 0.17) score=0.81 BodyPart:1-(0.49, 0.27) score=0.85 BodyPart:2-(0.41, 0.26)\" \\\n",
        "    \" score=0.67 BodyPart:3-(0.33, 0.37) score=0.72 BodyPart:4-(0.36, 0.48) score=0.78 \" \\\n",
        "    \"BodyPart:5-(0.58, 0.27) score=0.81 BodyPart:6-(0.65, 0.38) score=0.88 \" \\\n",
        "    \"BodyPart:7-(0.62, 0.48) score=0.86 BodyPart:8-(0.43, 0.48) score=0.60\" \\\n",
        "    \" BodyPart:9-(0.43, 0.66) score=0.67 BodyPart:10-(0.53, 0.79) score=0.56 \" \\\n",
        "    \"BodyPart:11-(0.53, 0.48) score=0.56 BodyPart:12-(0.59, 0.66) score=0.75\" \\\n",
        "    \" BodyPart:13-(0.49, 0.80) score=0.50 BodyPart:14-(0.54, 0.15) score=0.73 \" \\\n",
        "    \"BodyPart:15-(0.56, 0.15) score=0.85 BodyPart:16-(0.48, 0.16) score=0.81\" \\\n",
        "    \" BodyPart:17-(0.83, 0.18) score=0.79]\"\n",
        "p = p[1:-1]\n",
        "sh = \"[0].[0-9][0-9], [0].[0-9][0-9]\"\n",
        "com_2 = re.compile(sh)\n",
        "points = (\" \".join(com_2.findall(p))).split(\",\")\n",
        "points = str(points).replace(\"'\", '')\n",
        "sh_2 = \"score=[0].[0-9][0-9]\"\n",
        "com = re.compile(sh_2)\n",
        "x = com.findall(p)\n",
        "scores = str(x).replace(\"score=\",\"\").replace(\"'\",'')\n",
        "\n",
        "\n",
        "print('points = ', points)\n",
        "print('scores =', scores)\n",
        "# findall - Этот метод возвращает список всех найденных совпадений.\n"
      ],
      "execution_count": 36,
      "outputs": [
        {
          "output_type": "stream",
          "name": "stdout",
          "text": [
            "points =  [0.55,  0.17 0.49,  0.27 0.41,  0.26 0.33,  0.37 0.36,  0.48 0.58,  0.27 0.65,  0.38 0.62,  0.48 0.43,  0.48 0.43,  0.66 0.53,  0.79 0.53,  0.48 0.59,  0.66 0.49,  0.80 0.54,  0.15 0.56,  0.15 0.48,  0.16 0.83,  0.18]\nscores = [0.81, 0.85, 0.67, 0.72, 0.78, 0.81, 0.88, 0.86, 0.60, 0.67, 0.56, 0.56, 0.75, 0.50, 0.73, 0.85, 0.81, 0.79]\n"
          ]
        }
      ]
    },
    {
      "cell_type": "markdown",
      "metadata": {
        "id": "M1Sg0vXJXm7n"
      },
      "source": [
        "### **Завдання 2 (1,5 бали)**\n",
        "\n",
        "Написати програму підрахунку коренів квадратного рівняння без попередніх перевірок.\n",
        "\n",
        "1. Користувач має вводити коефіцієнти a, b та c з клавіатури.\n",
        "\n",
        "2. Програма має обробляти помилки ділення на 0, кореня від'ємного числа та інші, а також виводити відповідні повідомлення у разі виникнення таких помилок.\n",
        "\n",
        "3. Якщо рівняння не має коренів, программа має генерувати помилку за допомогою ключового слова raise, а потім обробляти її.\n",
        "\n",
        "4. Правильно написана програма при виникненні різних помилок має виводити текст помилки, а також різні повідомлення про те, в чому суть цих помилок. Необроблених помилок бути не повинно."
      ]
    },
    {
      "cell_type": "code",
      "metadata": {
        "id": "co7fcAuvXm7o"
      },
      "source": [
        "def check():\n",
        "    while type:\n",
        "        x = input('Enter your index: ')\n",
        "        try:\n",
        "            x = int(x)\n",
        "        except ValueError as error:\n",
        "            print(\"You have entered an impossible index, please try again:) \", error)\n",
        "        else:\n",
        "            break\n",
        "    return x\n",
        "\n",
        "\n",
        "def lab_1():\n",
        "    a = check()\n",
        "    print(\"Index # 1: \", a)\n",
        "    b = check()\n",
        "    print(\"Index # 2: \", b)\n",
        "    c = check()\n",
        "    print(\"Index # 3: \", c)\n",
        "    print(\"Quadratic inequality: \", a, \"*x^2 + \", b, \"*x + \", c, \"= 0\")\n",
        "    d = b ** 2 - 4 * a * c\n",
        "    print('Discriminant: ', d)\n",
        "    try:\n",
        "        if d < 0:\n",
        "            raise ValueError(\"This quadratic equation has no real roots!\")\n",
        "        try:\n",
        "            print(\"The root of the discriminant: \", round((d ** (1/2)), 3))\n",
        "            num = 1/2 * ((- b + d**(1/2))/a)\n",
        "            print('x1 =', round(num, 3))\n",
        "            try:\n",
        "                num = 1 / 2 * ((- b - d ** (1 / 2)) / a)\n",
        "                print('x2 =', round(num, 3))\n",
        "            except ZeroDivisionError as exp_1:\n",
        "                print('You cannot divide by zero!', exp_1)\n",
        "        except ZeroDivisionError as exp:\n",
        "            print('You cannot divide by zero!', exp)\n",
        "    except ValueError as ve:\n",
        "        print(ve)\n",
        "\n",
        "\n",
        "lab_1()\n"
      ],
      "execution_count": 1,
      "outputs": [
        {
          "output_type": "stream",
          "name": "stdout",
          "text": [
            "Index # 1:  0\n",
            "Index # 2:  7\n",
            "Index # 3:  6\n",
            "Quadratic inequality:  0 *x^2 +  7 *x +  6 = 0\n",
            "Discriminant:  49\n",
            "The root of the discriminant:  7.0\n",
            "You cannot divide by zero! float division by zero\n"
          ]
        }
      ]
    },
    {
      "cell_type": "code",
      "execution_count": null,
      "metadata": {},
      "outputs": [],
      "source": []
    }
  ]
}