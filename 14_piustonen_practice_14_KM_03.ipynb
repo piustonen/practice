{
  "nbformat": 4,
  "nbformat_minor": 0,
  "metadata": {
    "colab": {
      "name": "Practice_14_KM_01.ipynb",
      "provenance": [],
      "collapsed_sections": []
    },
    "kernelspec": {
      "name": "python3",
      "display_name": "Python 3.6.8 64-bit",
      "metadata": {
        "interpreter": {
          "hash": "2da3a1fb744ceb9826f8507be472275d914440904705c6470325850c18f7eb2c"
        }
      }
    }
  },
  "cells": [
    {
      "cell_type": "markdown",
      "metadata": {
        "id": "FMqboNwO4rVs"
      },
      "source": [
        "# **Курс \"Програмування на мові Python\"**\n",
        "\n",
        "##### Викладачі:\n",
        "##### Борисенко Павло Борисович\n",
        "##### Щьоголєв Максим Олегович\n"
      ]
    },
    {
      "cell_type": "markdown",
      "metadata": {
        "id": "A2T6MigL5Z06"
      },
      "source": [
        "## **Практичне зайняття №14**\n",
        "\n",
        "### Тема: \"Робота з файлами\""
      ]
    },
    {
      "cell_type": "markdown",
      "metadata": {
        "id": "cfCdgK2zXm7e"
      },
      "source": [
        "### **Завдання 1 (1,5 бали)**\n",
        "\n",
        "У 1939 році друком вийшов роман американського письменика Ернеста Вінсента Райта \"Ґедсбі\". Особливу увагу публіки він здобув через те, що письменник жодного разу не використав у романі літеру \"e\" (роман складається з більше ніж 50,000 слів), яка є найбільш вживаною літерою в англійській мові.\n",
        "\n",
        "Порахуйте кількість входжень кожної літери у текст роману. Виведіть список літер англійського алфавіту, а також інформацію про те, скільки відсотків від усіх літер тексту складає кожна літера алфавіту.\n",
        "\n",
        "Зауваження:\n",
        "\n",
        "1. Програма має ігнорувати будь-які символи, окрім літер.\n",
        "\n",
        "2. Переведіть усі літери у верхній або у нижній регістр.\n",
        "\n",
        "3. Під час виведення відсортуйте літери у порядку зменшення їхнього відсотка. Літера \"e\" має стояти на останньому місці у цьому списку.\n",
        "\n",
        "4. Виведіть перші 5 та останні 5 літер відсортованого списку разом з відсотковими значеннями, що їм відповідають."
      ]
    },
    {
      "cell_type": "code",
      "metadata": {
        "tags": [],
        "id": "u4-fHJJ6U462"
      },
      "source": [
        "from string import ascii_lowercase\n",
        "z = open(\"gadsby.txt\", \"r\")\n",
        "text = z.read().lower()\n",
        "count = 0\n",
        "for i in text:\n",
        "    if i in ascii_lowercase:\n",
        "        count += 1\n",
        "print(\"Total number of letters: \", count)\n",
        "num = list(ascii_lowercase)\n",
        "counter = 0\n",
        "list_1 = []\n",
        "for letter in num:\n",
        "    for letter_text in text:\n",
        "        if letter_text == letter:\n",
        "            counter += 1\n",
        "    list_1.append([letter, round(((counter*100)/count), 2), \"%\"])\n",
        "    counter = 0\n",
        "list_1.sort(key=lambda i: i[1])\n",
        "print(\"last five:\")\n",
        "for entry in list_1[-6:-1]:\n",
        "    print(f\"letter {entry[0]}:{entry[1]}:{entry[2]}\")\n",
        "print(\"first five:\")\n",
        "for entry in list_1[0:5]:\n",
        "    print(f\"letter {entry[0]}:{entry[1]}:{entry[2]}\")\n",
        "\n"
      ],
      "execution_count": 2,
      "outputs": [
        {
          "output_type": "stream",
          "name": "stdout",
          "text": [
            "Total number of letters:  216706\n",
            "last five:\n",
            "letter s:6.96:%\n",
            "letter t:8.53:%\n",
            "letter n:8.56:%\n",
            "letter i:8.79:%\n",
            "letter o:10.37:%\n",
            "first five:\n",
            "letter q:0.05:%\n",
            "letter x:0.08:%\n",
            "letter z:0.11:%\n",
            "letter j:0.22:%\n",
            "letter e:0.23:%\n"
          ]
        }
      ]
    },
    {
      "cell_type": "markdown",
      "metadata": {
        "id": "A34oz70eU463"
      },
      "source": [
        "### **Завдання 2 (1,5 бали)**\n",
        "\n",
        "Створіть CSV-файл, що буде містити від 5 до 10 пісень (творів) вашого улюбленого музиканта. Назва файлу - ім'я музиканта (композитора) або назва гурту.\n",
        "\n",
        "1. Обов'язково додайте до файлу рядок з назвами двох колонок (Song, Year) або (Composition, Year).\n",
        "\n",
        "2. Після запису файлу роздрукуйте назву файлу та усі наявні у файлі рядки (включно із заголовками).\n",
        "\n",
        "3. Для запису та зчитування рядків скористайтесь функціями csv.DictWriter() та csv.DictReader()."
      ]
    },
    {
      "cell_type": "code",
      "metadata": {
        "id": "MEJIrG1GU463"
      },
      "source": [
        "import csv\n",
        "\n",
        "with open(\"wutang.csv\",\"w\", newline = \"\") as csvfile:\n",
        "    fieldnames = [\"Song\", \"Year\"]\n",
        "    writer = csv.DictWriter(csvfile, fieldnames = fieldnames)\n",
        "    writer.writeheader()\n",
        "    writer.writerow({'Song': 'Protect Ye Neck',\n",
        "                     'Year': '1993'})\n",
        "    writer.writerow({'Song': 'C.R.E.A.M',\n",
        "                     'Year': '1993'})\n",
        "    writer.writerow({'Song': 'Da Mystery of Chessboxin',\n",
        "                     'Year': '1993'})\n",
        "    writer.writerow({'Song': 'Triumph',\n",
        "                     'Year': '1997'})\n",
        "    writer.writerow({'Song': 'Listen',\n",
        "                     'Year': '2005'})\n",
        "    writer.writerow({'Song': 'Shaolin',\n",
        "                     'Year': '2006'})\n",
        "    writer.writerow({'Song': 'Reunited',\n",
        "                     'Year': '2007'})\n",
        "with open(\"wutang.csv\", newline = \"\") as csvfile:\n",
        "    reader = csv.DictReader(csvfile)\n",
        "    for heading in reader.fieldnames:\n",
        "        print(heading, end=\" \")\n",
        "    print('\\n------------------------------')\n",
        "    for row in reader:\n",
        "        print(row['Song'], row['Year'])"
      ],
      "execution_count": 1,
      "outputs": [
        {
          "output_type": "stream",
          "name": "stdout",
          "text": [
            "Song Year \n------------------------------\nProtect Ye Neck 1993\nC.R.E.A.M 1993\nDa Mystery of Chessboxin 1993\nTriumph 1997\nListen 2005\nShaolin 2006\nReunited 2007\n"
          ]
        }
      ]
    },
    {
      "cell_type": "markdown",
      "metadata": {
        "id": "Jb-eSBsWU464"
      },
      "source": [
        "### **Завдання 3 (бонусне, 1 бал)**\n",
        "\n",
        "COCO Dataset - набір фотографій та анотацій до них. Його дуже часто використовують для тренування класифікаторів, призначених для розпізнавання об'єктів та визначення ключових точок на зображеннях.\n",
        "\n",
        "Завантажте файли з описом фотографій COCO Dataset за посиланням: http://images.cocodataset.org/annotations/image_info_test2017.zip\n",
        "\n",
        "1. Відкрийте файл image_info_test-dev2017.json. Інформація про фотографії з бази COCO міститься у полі \"images\". Інформація про категорії, на які розділені всі фотографії, міститься у полі \"categories\".\n",
        "\n",
        "2. Визначте кількість фотографій, інформацію про які можна знайти у цьому файлі (кількість елементів, що відповідають ключу \"images\").\n",
        "\n",
        "3. Визначте кількість наявних категорій (кількість елементів, що відповідають ключу \"categories\").\n",
        "\n",
        "4. Виведіть посилання на фотографію 000000000001.jpg (\"coco_url\"), висоту цієї фотографії (\"height\"), ширину (\"width\") та її ідентифікатор (\"id\").\n",
        "\n",
        "5. Опис структури JSON-файлу для набору фотографій COCO можна знайти за посиланням: https://cocodataset.org/#format-data\n",
        "\n",
        "6. Щоб перевірити правильність результатів, у VS Code встановіть розширення JSON та відкрийте файл image_info_test-dev2017.json. Розширення автоматично визначає кількість елементів у кожному полі."
      ]
    },
    {
      "cell_type": "code",
      "metadata": {
        "id": "74C6WKB_U464"
      },
      "source": [
        "import json\n",
        "\n",
        "img = open(\"image_info_test-dev2017.json\")\n",
        "img_row = json.load(img)\n",
        "print(\"Amount of images:\", len(img_row[\"images\"]))\n",
        "print(\"Amount of categories:\", len(img_row[\"categories\"]))\n",
        "for i in range (0, len(img_row[\"images\"])):\n",
        "    if img_row[\"images\"][i].get(\"file_name\")==\"000000000001.jpg\":\n",
        "        print(\"coco_url:\",img_row[\"images\"][i].get(\"coco_url\"))\n",
        "        print(\"height:\",img_row[\"images\"][i].get(\"height\"))\n",
        "        print(\"width:\",img_row[\"images\"][i].get(\"width\"))\n",
        "        print(\"id:\",img_row[\"images\"][i].get(\"id\"))"
      ],
      "execution_count": null,
      "outputs": []
    }
  ]
}